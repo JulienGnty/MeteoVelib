{
 "cells": [
  {
   "cell_type": "code",
   "execution_count": 13,
   "id": "2f565de8",
   "metadata": {},
   "outputs": [],
   "source": [
    "import requests\n",
    "\n",
    "key = \"e0f9ceb73ff08af58fe7d8998ddd24fd\"\n",
    "lat, lon = (48.87626381919953, 2.4562818557024)\n",
    "\n",
    "base_url = f\"https://api.openweathermap.org/data/2.5/weather?lat={lat}&lon={lon}&appid={key}\""
   ]
  },
  {
   "cell_type": "code",
   "execution_count": 14,
   "id": "de315796",
   "metadata": {},
   "outputs": [
    {
     "data": {
      "text/plain": [
       "'https://api.openweathermap.org/data/2.5/weather?lat=48.87626381919953&lon=2.4562818557024&appid=e0f9ceb73ff08af58fe7d8998ddd24fd'"
      ]
     },
     "execution_count": 14,
     "metadata": {},
     "output_type": "execute_result"
    }
   ],
   "source": [
    "base_url"
   ]
  },
  {
   "cell_type": "code",
   "execution_count": 15,
   "id": "60ce59e0",
   "metadata": {},
   "outputs": [],
   "source": [
    "response = requests.get(base_url)\n",
    "x = response.json()"
   ]
  },
  {
   "cell_type": "code",
   "execution_count": 16,
   "id": "d625212f",
   "metadata": {},
   "outputs": [
    {
     "data": {
      "text/plain": [
       "{'cod': 401,\n",
       " 'message': 'Invalid API key. Please see https://openweathermap.org/faq#error401 for more info.'}"
      ]
     },
     "execution_count": 16,
     "metadata": {},
     "output_type": "execute_result"
    }
   ],
   "source": [
    "x"
   ]
  },
  {
   "cell_type": "code",
   "execution_count": null,
   "id": "a34c365e",
   "metadata": {},
   "outputs": [],
   "source": []
  }
 ],
 "metadata": {
  "kernelspec": {
   "display_name": "Python 3 (ipykernel)",
   "language": "python",
   "name": "python3"
  },
  "language_info": {
   "codemirror_mode": {
    "name": "ipython",
    "version": 3
   },
   "file_extension": ".py",
   "mimetype": "text/x-python",
   "name": "python",
   "nbconvert_exporter": "python",
   "pygments_lexer": "ipython3",
   "version": "3.9.13"
  }
 },
 "nbformat": 4,
 "nbformat_minor": 5
}
